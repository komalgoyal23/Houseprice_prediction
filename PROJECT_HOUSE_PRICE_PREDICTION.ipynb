{
  "cells": [
    {
      "cell_type": "markdown",
      "metadata": {
        "id": "view-in-github",
        "colab_type": "text"
      },
      "source": [
        "<a href=\"https://colab.research.google.com/github/komalgoyal23/Houseprice_prediction/blob/main/PROJECT_HOUSE_PRICE_PREDICTION.ipynb\" target=\"_parent\"><img src=\"https://colab.research.google.com/assets/colab-badge.svg\" alt=\"Open In Colab\"/></a>"
      ]
    },
    {
      "cell_type": "markdown",
      "metadata": {
        "id": "JTYabSuKS4qL"
      },
      "source": [
        "#IMPORT LIBRARIES"
      ]
    },
    {
      "cell_type": "code",
      "execution_count": null,
      "metadata": {
        "id": "e-jGRv9QPlzn"
      },
      "outputs": [],
      "source": [
        "import numpy as np\n",
        "import pandas as pd\n",
        "import matplotlib.pyplot as plt\n",
        "import seaborn as sns\n",
        "import sklearn.datasets\n",
        "from sklearn.model_selection import train_test_split\n",
        "from xgboost import XGBRegressor \n",
        "from sklearn import metrics"
      ]
    },
    {
      "cell_type": "markdown",
      "metadata": {
        "id": "W_GdabVJS3-D"
      },
      "source": [
        "#IMPORT DATASET"
      ]
    },
    {
      "cell_type": "code",
      "execution_count": null,
      "metadata": {
        "id": "ienP0kxHQaES"
      },
      "outputs": [],
      "source": [
        "house_price_dataset=sklearn.datasets.load_boston()"
      ]
    },
    {
      "cell_type": "code",
      "execution_count": null,
      "metadata": {
        "id": "hdju4Gb9TNUt"
      },
      "outputs": [],
      "source": [
        "house_price_dataset"
      ]
    },
    {
      "cell_type": "markdown",
      "metadata": {
        "id": "YWDf5VdMVCtx"
      },
      "source": [
        "# LOADING DATASET INTO PANDAS DATAFRAMES"
      ]
    },
    {
      "cell_type": "code",
      "execution_count": null,
      "metadata": {
        "id": "tmxfJtHXTWVh"
      },
      "outputs": [],
      "source": [
        "house_price_dataframe=pd.DataFrame(house_price_dataset.data, columns=house_price_dataset.feature_names) "
      ]
    },
    {
      "cell_type": "code",
      "execution_count": null,
      "metadata": {
        "id": "LhuToOjDVSud"
      },
      "outputs": [],
      "source": [
        "house_price_dataframe.head()"
      ]
    },
    {
      "cell_type": "code",
      "execution_count": null,
      "metadata": {
        "id": "eDpP9U5aV02q"
      },
      "outputs": [],
      "source": [
        "#add the target (price) columns to the DATAFRAME "
      ]
    },
    {
      "cell_type": "code",
      "execution_count": null,
      "metadata": {
        "id": "QE_hPi--XrPQ"
      },
      "outputs": [],
      "source": [
        "house_price_dataframe[\"price\"]=house_price_dataset.target"
      ]
    },
    {
      "cell_type": "code",
      "execution_count": null,
      "metadata": {
        "id": "N2iwJLlAX1Fc"
      },
      "outputs": [],
      "source": [
        "house_price_dataframe"
      ]
    },
    {
      "cell_type": "code",
      "execution_count": null,
      "metadata": {
        "id": "I0aUo49wXa2p"
      },
      "outputs": [],
      "source": [
        "house_price_dataframe.shape"
      ]
    },
    {
      "cell_type": "code",
      "execution_count": null,
      "metadata": {
        "id": "ID_NWFEsXf-O"
      },
      "outputs": [],
      "source": [
        "house_price_dataframe.isnull().sum()"
      ]
    },
    {
      "cell_type": "code",
      "execution_count": null,
      "metadata": {
        "id": "8u_wqQphX8o9"
      },
      "outputs": [],
      "source": [
        "house_price_dataframe.describe()"
      ]
    },
    {
      "cell_type": "markdown",
      "metadata": {
        "id": "R0q8MIUbYSEz"
      },
      "source": [
        "##understanding the correlation between various features in the dataset\n"
      ]
    },
    {
      "cell_type": "markdown",
      "metadata": {
        "id": "thMMfOh06omh"
      },
      "source": [
        "1. Positive Correlation #direct proportion\n",
        "2. Negative Correlation #indirect proportion"
      ]
    },
    {
      "cell_type": "code",
      "execution_count": null,
      "metadata": {
        "id": "rDKBLXVH9B6A"
      },
      "outputs": [],
      "source": [
        " correlation=house_price_dataframe.corr()\n",
        "sns.heatmap(correlation, cbar=True, square=True, fmt=\".1f\",annot=True, annot_kws={'size':8},cmap=\"Blues\")"
      ]
    },
    {
      "cell_type": "code",
      "source": [
        "X=house_price_dataframe.drop([\"price\"], axis=1)\n",
        "Y=house_price_dataframe[\"price\"]"
      ],
      "metadata": {
        "id": "TsmgtAokr2ux"
      },
      "execution_count": null,
      "outputs": []
    },
    {
      "cell_type": "code",
      "source": [
        "print(X)\n",
        "print(Y)"
      ],
      "metadata": {
        "id": "RKNxetTbr_D-"
      },
      "execution_count": null,
      "outputs": []
    },
    {
      "cell_type": "code",
      "source": [
        " X_train, X_test, Y_train, Y_test = train_test_split(X,Y, test_size=0.2, random_state=2)"
      ],
      "metadata": {
        "id": "wIKv4Dc0r2qX"
      },
      "execution_count": null,
      "outputs": []
    },
    {
      "cell_type": "code",
      "source": [
        "print(X_train, Y_train, X_test, Y_test)"
      ],
      "metadata": {
        "id": "IXa35WjQr2if"
      },
      "execution_count": null,
      "outputs": []
    },
    {
      "cell_type": "code",
      "source": [
        "print(X.shape, X_train.shape, X_test.shape)"
      ],
      "metadata": {
        "colab": {
          "base_uri": "https://localhost:8080/"
        },
        "id": "1nur2lAPtEFs",
        "outputId": "3f9ff348-d3aa-46c1-9227-04200392875d"
      },
      "execution_count": null,
      "outputs": [
        {
          "output_type": "stream",
          "name": "stdout",
          "text": [
            "(506, 13) (404, 13) (102, 13)\n"
          ]
        }
      ]
    },
    {
      "cell_type": "markdown",
      "source": [
        "#MODEL TRAINING"
      ],
      "metadata": {
        "id": "R-iqXDCRttbp"
      }
    },
    {
      "cell_type": "markdown",
      "source": [
        "##XG BOOST"
      ],
      "metadata": {
        "id": "pFFUXrGst0KV"
      }
    },
    {
      "cell_type": "code",
      "source": [
        "model=XGBRegressor()\n",
        "model.fit(X_train, Y_train) "
      ],
      "metadata": {
        "id": "5ivrVmUPtjmU"
      },
      "execution_count": null,
      "outputs": []
    },
    {
      "cell_type": "markdown",
      "source": [
        "#Evaluation"
      ],
      "metadata": {
        "id": "CQ0uPIkiuPUZ"
      }
    },
    {
      "cell_type": "markdown",
      "source": [
        "##Prediction on training data"
      ],
      "metadata": {
        "id": "ZTyeUkH-uR12"
      }
    },
    {
      "cell_type": "code",
      "source": [
        "training_data_prediction= model.predict(X_train)"
      ],
      "metadata": {
        "id": "FGna9EacuRlL"
      },
      "execution_count": null,
      "outputs": []
    },
    {
      "cell_type": "code",
      "source": [
        "print(training_data_prediction)"
      ],
      "metadata": {
        "id": "KBT-QvRruO1b"
      },
      "execution_count": null,
      "outputs": []
    },
    {
      "cell_type": "markdown",
      "source": [
        "#R Squared error"
      ],
      "metadata": {
        "id": "L3v939vAu6XU"
      }
    },
    {
      "cell_type": "code",
      "source": [
        "score_1 = metrics.r2_score(Y_train,training_data_prediction)"
      ],
      "metadata": {
        "id": "4S-OD5NNuOp-"
      },
      "execution_count": null,
      "outputs": []
    },
    {
      "cell_type": "markdown",
      "source": [
        "#Mean Absolute Eroor"
      ],
      "metadata": {
        "id": "xPG_x67MvAH4"
      }
    },
    {
      "cell_type": "code",
      "source": [
        "score_2 = metrics.mean_absolute_error(Y_train, training_data_prediction)\n",
        "print(\"R squared error : \", score_1)\n",
        "print(\"Mean Absolute Error : \", score_2)"
      ],
      "metadata": {
        "colab": {
          "base_uri": "https://localhost:8080/"
        },
        "id": "KQ5G1-Ubu_V8",
        "outputId": "66565c11-92dd-467b-ebc5-15aa6580cfa4"
      },
      "execution_count": null,
      "outputs": [
        {
          "output_type": "stream",
          "name": "stdout",
          "text": [
            "R squared error :  0.9733349094832763\n",
            "Mean Absolute Error :  1.145314053261634\n"
          ]
        }
      ]
    },
    {
      "cell_type": "markdown",
      "source": [],
      "metadata": {
        "id": "zYNZjR-Uv9Z5"
      }
    },
    {
      "cell_type": "code",
      "source": [
        "plt.scatter(Y_train, training_data_prediction)\n",
        "plt.xlabel(\"Actual Prices\")\n",
        "plt.ylabel(\"Predicted Prices\")\n",
        "plt.title(\"Actual Price vs Predicted Price\")\n",
        "plt.show()"
      ],
      "metadata": {
        "colab": {
          "base_uri": "https://localhost:8080/",
          "height": 295
        },
        "id": "Fc3bA0Pju5Hu",
        "outputId": "2f7637c8-1c1c-4aa4-9742-de42cfd9b09c"
      },
      "execution_count": null,
      "outputs": [
        {
          "output_type": "display_data",
          "data": {
            "text/plain": [
              "<Figure size 432x288 with 1 Axes>"
            ],
            "image/png": "[encoded data removed]"
          },
          "metadata": {
            "needs_background": "light"
          }
        }
      ]
    },
    {
      "cell_type": "code",
      "source": [
        "test_data_prediction = model.predict(X_test)"
      ],
      "metadata": {
        "id": "Trz7rrVNu5A-"
      },
      "execution_count": null,
      "outputs": []
    },
    {
      "cell_type": "code",
      "source": [
        "test_data_prediction "
      ],
      "metadata": {
        "id": "ySffzN7Gu49d"
      },
      "execution_count": null,
      "outputs": []
    }
  ],
  "metadata": {
    "colab": {
      "provenance": [],
      "authorship_tag": "ABX9TyMioxUX+rOVVk8AAzWR329v",
      "include_colab_link": true
    },
    "kernelspec": {
      "display_name": "Python 3",
      "name": "python3"
    },
    "language_info": {
      "name": "python"
    }
  },
  "nbformat": 4,
  "nbformat_minor": 0
}